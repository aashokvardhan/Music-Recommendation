{
 "cells": [
  {
   "cell_type": "code",
   "execution_count": 1,
   "metadata": {},
   "outputs": [],
   "source": [
    "from pyspark import SparkContext\n",
    "sc = SparkContext(\"local[2]\", \"Music Recommendation\")"
   ]
  },
  {
   "cell_type": "code",
   "execution_count": 2,
   "metadata": {},
   "outputs": [],
   "source": [
    "#Reading user data\n",
    "rawUserArtistData=sc.textFile(\"user_artist_data_small.txt\").map(lambda x:x.split()).map(lambda x:[int(x[0]),int(x[1]),int(x[2])])"
   ]
  },
  {
   "cell_type": "code",
   "execution_count": 3,
   "metadata": {},
   "outputs": [],
   "source": [
    "#Reading Artist Data\n",
    "rawArtistData=sc.textFile(\"artist_data_small.txt\").map(lambda x:x.split(\"\\t\")).map(lambda x:[int(x[0]),x[1].strip()])"
   ]
  },
  {
   "cell_type": "code",
   "execution_count": 4,
   "metadata": {},
   "outputs": [
    {
     "data": {
      "text/plain": [
       "[[1059637, 1000010, 238]]"
      ]
     },
     "execution_count": 4,
     "metadata": {},
     "output_type": "execute_result"
    }
   ],
   "source": [
    "#user ID, an artist ID, and a play count\n",
    "rawUserArtistData.take(1)"
   ]
  },
  {
   "cell_type": "code",
   "execution_count": 5,
   "metadata": {},
   "outputs": [
    {
     "data": {
      "text/plain": [
       "[[1240105, 'André Visior']]"
      ]
     },
     "execution_count": 5,
     "metadata": {},
     "output_type": "execute_result"
    }
   ],
   "source": [
    "#ArtistID,Name\n",
    "rawArtistData.take(1)"
   ]
  },
  {
   "cell_type": "code",
   "execution_count": 6,
   "metadata": {},
   "outputs": [],
   "source": [
    "#Artist Alias Name\n",
    "artistAlias=sc.textFile(\"artist_alias_small.txt\").map(lambda x:x.split(\"\\t\"))"
   ]
  },
  {
   "cell_type": "code",
   "execution_count": 7,
   "metadata": {},
   "outputs": [
    {
     "data": {
      "text/plain": [
       "[['1027859', '1252408']]"
      ]
     },
     "execution_count": 7,
     "metadata": {},
     "output_type": "execute_result"
    }
   ],
   "source": [
    "artistAlias.take(1)"
   ]
  },
  {
   "cell_type": "code",
   "execution_count": 8,
   "metadata": {},
   "outputs": [
    {
     "data": {
      "text/plain": [
       "[[1252408, 'Trevor Jones & Randy Edelman'],\n",
       " [1027859, 'Trevor Jones and Randy Edelman']]"
      ]
     },
     "execution_count": 8,
     "metadata": {},
     "output_type": "execute_result"
    }
   ],
   "source": [
    "#sample Artist Names\n",
    "rawArtistData.filter(lambda x:str(x[0]) in ['1027859', '1252408']).collect()"
   ]
  },
  {
   "cell_type": "code",
   "execution_count": 9,
   "metadata": {},
   "outputs": [],
   "source": [
    "#Finding the Alias of artist id if present else artist id\n",
    "def final_artist(y):\n",
    "    if y in mnk.keys():\n",
    "        return mnk[y]\n",
    "    else:\n",
    "        return y"
   ]
  },
  {
   "cell_type": "code",
   "execution_count": 10,
   "metadata": {},
   "outputs": [
    {
     "data": {
      "text/plain": [
       "587"
      ]
     },
     "execution_count": 10,
     "metadata": {},
     "output_type": "execute_result"
    }
   ],
   "source": [
    "artistAlias.count()"
   ]
  },
  {
   "cell_type": "code",
   "execution_count": 11,
   "metadata": {},
   "outputs": [],
   "source": [
    "#broadcasting the artist Name\n",
    "mnk=dict(sc.broadcast(artistAlias.collect()).value)"
   ]
  },
  {
   "cell_type": "code",
   "execution_count": 12,
   "metadata": {},
   "outputs": [],
   "source": [
    "##Building Ratings RDD\n",
    "from pyspark.mllib.recommendation import ALS, MatrixFactorizationModel, Rating\n",
    "ratings=rawUserArtistData.map(lambda x: Rating(x[0],final_artist(x[1]),x[2]))"
   ]
  },
  {
   "cell_type": "code",
   "execution_count": 13,
   "metadata": {},
   "outputs": [
    {
     "data": {
      "text/plain": [
       "[Rating(user=1059637, product=1000010, rating=238.0)]"
      ]
     },
     "execution_count": 13,
     "metadata": {},
     "output_type": "execute_result"
    }
   ],
   "source": [
    "#Sample Ratings RDD\n",
    "ratings.take(1)"
   ]
  },
  {
   "cell_type": "code",
   "execution_count": 26,
   "metadata": {},
   "outputs": [],
   "source": [
    "#Training Model with rating and 10 iterations\n",
    "rank = 10\n",
    "numIterations = 10\n",
    "model = ALS.trainImplicit(ratings, rank, numIterations,0.1,alpha=0.1)"
   ]
  },
  {
   "cell_type": "code",
   "execution_count": 29,
   "metadata": {},
   "outputs": [],
   "source": [
    "#Training Model with rating and 10 iterations\n",
    "rank = 10\n",
    "numIterations = 10\n",
    "model = ALS.trainImplicit(ratings, rank)"
   ]
  },
  {
   "cell_type": "code",
   "execution_count": 30,
   "metadata": {},
   "outputs": [
    {
     "name": "stdout",
     "output_type": "stream",
     "text": [
      "Mean Squared Error = 9224142.20900244\n"
     ]
    }
   ],
   "source": [
    "# Evaluate the model on training data\n",
    "testdata = ratings.map(lambda p: (p[0], p[1]))\n",
    "predictions = model.predictAll(testdata).map(lambda r: ((r[0], r[1]), r[2]))\n",
    "ratesAndPreds = ratings.map(lambda r: ((r[0], r[1]), r[2])).join(predictions)\n",
    "MSE = ratesAndPreds.map(lambda r: (r[1][0] - r[1][1])**2).mean()\n",
    "print(\"Mean Squared Error = \" + str(MSE))"
   ]
  },
  {
   "cell_type": "code",
   "execution_count": 28,
   "metadata": {},
   "outputs": [
    {
     "name": "stdout",
     "output_type": "stream",
     "text": [
      "Azure Ray\n",
      "Mates of State\n",
      "Bishop Allen\n",
      "Tilly and the Wall\n",
      "Insane Clown Posse\n",
      "Nichole Nordeman\n",
      "Rise Against\n",
      "Ashlee Simpson\n",
      "Ginny Owens\n"
     ]
    }
   ],
   "source": [
    "#Artists Recommended for Users\n",
    "user_recommendation=model.recommendProducts(1070932,10)\n",
    "artists=[]\n",
    "for i in user_recommendation:\n",
    "    artists.append(i[1])\n",
    "artists_names=rawArtistData.filter( lambda x:x[0] in artists).map(lambda x:x[1]).collect()\n",
    "for i in artists_names[:9]:\n",
    "    print(i)\n"
   ]
  },
  {
   "cell_type": "code",
   "execution_count": 17,
   "metadata": {},
   "outputs": [
    {
     "name": "stdout",
     "output_type": "stream",
     "text": [
      "time and distance\n",
      "Zoli Band\n",
      "desperate measures\n",
      "Scraps And Heart Attacks\n",
      "Razor Crusade\n",
      "Staygold\n",
      "Midtown\n",
      "Minor Threat\n",
      "The Reputation\n"
     ]
    }
   ],
   "source": [
    "#Artists listened by user\n",
    "artists_for_user=rawUserArtistData.filter(lambda x:x[0]==1070932).map(lambda x:x[1]).collect()\n",
    "artists_names=rawArtistData.filter( lambda x:x[0] in artists_for_user).map(lambda x:x[1]).collect()\n",
    "for i in artists_names[:9]:\n",
    "    print(i)"
   ]
  },
  {
   "cell_type": "code",
   "execution_count": 18,
   "metadata": {},
   "outputs": [
    {
     "data": {
      "text/plain": [
       "[((1024631, 7009918), 0.9574341347765185),\n",
       " ((1059334, 10103194), 0.9682550082666361),\n",
       " ((1059334, 6682484), 0.9660616664234093),\n",
       " ((2023686, 1002836), 0.9474381829936663),\n",
       " ((1031009, 1002836), 0.15710094271201763),\n",
       " ((1024631, 2136096), 0.9574341347765185),\n",
       " ((1070932, 1281578), 0.1493135480650973),\n",
       " ((1059334, 2146068), 0.9663039617082493),\n",
       " ((2023686, 1154200), 0.949529268513658),\n",
       " ((1035511, 6660614), 0.8831503884054149)]"
      ]
     },
     "execution_count": 18,
     "metadata": {},
     "output_type": "execute_result"
    }
   ],
   "source": [
    "#Sample Predictions\n",
    "predictions.take(10)"
   ]
  },
  {
   "cell_type": "code",
   "execution_count": 31,
   "metadata": {},
   "outputs": [
    {
     "name": "stdout",
     "output_type": "stream",
     "text": [
      "Mean Squared Error = 129.91350043907113\n"
     ]
    }
   ],
   "source": [
    "# Evaluate the model on training data\n",
    "import math\n",
    "testdata = ratings.map(lambda p: (p[0], p[1]))\n",
    "predictions = model.predictAll(testdata).map(lambda r: ((r[0], r[1]), r[2]))\n",
    "ratesAndPreds = ratings.map(lambda r: ((r[0], r[1]), r[2])).join(predictions)\n",
    "MSE = ratesAndPreds.map(lambda r: math.sqrt((r[1][0] - r[1][1])**2)).mean()\n",
    "print(\"Mean Squared Error = \" + str(MSE))\n",
    "\n",
    "# Save and load model\n",
    "model.save(sc, \"target/tmp/myCollaborativeFilter3\")\n",
    "sameModel = MatrixFactorizationModel.load(sc, \"target/tmp/myCollaborativeFilter3\")"
   ]
  }
 ],
 "metadata": {
  "kernelspec": {
   "display_name": "Python 3",
   "language": "python",
   "name": "python3"
  },
  "language_info": {
   "codemirror_mode": {
    "name": "ipython",
    "version": 3
   },
   "file_extension": ".py",
   "mimetype": "text/x-python",
   "name": "python",
   "nbconvert_exporter": "python",
   "pygments_lexer": "ipython3",
   "version": "3.6.2"
  }
 },
 "nbformat": 4,
 "nbformat_minor": 2
}
